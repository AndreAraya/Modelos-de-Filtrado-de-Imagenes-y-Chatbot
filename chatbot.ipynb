{
 "cells": [
  {
   "cell_type": "code",
   "execution_count": 187,
   "metadata": {},
   "outputs": [],
   "source": [
    "# Importar las librerias necesarias\n",
    "import json \n",
    "import spacy \n",
    "import numpy as np \n",
    "from sklearn.metrics.pairwise import cosine_similarity \n"
   ]
  },
  {
   "cell_type": "code",
   "execution_count": null,
   "metadata": {},
   "outputs": [],
   "source": [
    "# Carga del modelo de lenguaje en Ingles de spaCy \n",
    "nlp = spacy.load(\"en_core_web_md\")\n",
    "\n",
    "# Leer las respuestas desde el archivo JSON\n",
    "with open('respuesta.json') as file:\n",
    "    data = json.load(file)\n",
    "    responses = data[\"responses\"]"
   ]
  },
  {
   "cell_type": "code",
   "execution_count": 189,
   "metadata": {},
   "outputs": [
    {
     "name": "stdout",
     "output_type": "stream",
     "text": [
      "User Question: What are the visiting hours?\n",
      "Selected Response: Patients can have two visitors at a time during visiting hours.\n",
      "Question:  What are the visiting hours?\n",
      "Selected response:  Family members can call the patient's room directly for updates.\n",
      "--------------------------------------------------\n",
      "Question:  When can I visit the patients?\n",
      "Selected response:  Family members can call the patient's room directly for updates.\n",
      "--------------------------------------------------\n",
      "Question:  How can I schedule a medical appointment?\n",
      "Selected response:  Family members can call the patient's room directly for updates.\n",
      "--------------------------------------------------\n",
      "Question:  Is the emergency room open 24 hours?\n",
      "Selected response:  The emergency room is open 24 hours a day.\n",
      "--------------------------------------------------\n",
      "Question:  What is the number to schedule an appointment?\n",
      "Selected response:  Family members can call the patient's room directly for updates.\n",
      "--------------------------------------------------\n",
      "Question:  Physical therapy sessions?\n",
      "Selected response:  Physical therapy sessions can be scheduled by referral from a doctor.\n",
      "--------------------------------------------------\n",
      "Question:  Is there free WiFi?\n",
      "Selected response:  Family members can call the patient's room directly for updates.\n",
      "--------------------------------------------------\n",
      "Question:  Is there quiet hours at the hospital?\n",
      "Selected response:  Patients can have two visitors at a time during visiting hours.\n",
      "--------------------------------------------------\n"
     ]
    }
   ],
   "source": [
    "\n",
    "# Dataset transformado en  embeddings\n",
    "responses_embeddings = np.array([nlp(response).vector for response in responses])\n",
    "\n",
    "# Funcion para buscar las  respuestas más similares a la pregunta del usuario\n",
    "def find_most_similar_response(question):\n",
    "    question_embedding = nlp(question).vector\n",
    "\n",
    "    # Calcula la similitud de coseno entre la pregunta y las respuestas\n",
    "    similarities = cosine_similarity([question_embedding], responses_embeddings)\n",
    "\n",
    "    # obtiene los indices de las 10 respuestas mas similares\n",
    "    top_indices = np.argsort(similarities[0])[-10:][::-1]\n",
    "\n",
    "    # Selecciona la respuesta con mayor similitud entre las 10 respuestas\n",
    "    selected_response = responses[top_indices[0]]\n",
    "\n",
    "    return selected_response\n",
    "\n",
    "print(\"User Question:\", user_question)\n",
    "print(\"Selected Response:\", selected_response)\n",
    "# Preguntas de ejemplo\n",
    "example_questions = [\n",
    "    \"What are the visiting hours?\",\n",
    "    \"When can I visit the patients?\",\n",
    "    \"How can I schedule a medical appointment?\",\n",
    "    \"Is the emergency room open 24 hours?\",\n",
    "    \"What is the number to schedule an appointment?\",\n",
    "    \"Physical therapy sessions?\",\n",
    "    \"Is there free WiFi?\",\n",
    "    \"Is there quiet hours at the hospital?\",\n",
    "    \n",
    "]\n",
    "# Prueba el chatbot con las preguntas de ejemplo\n",
    "for question in example_questions:\n",
    "    selected_response = find_most_similar_response(question)\n",
    "    print(\"Question: \" ,question)\n",
    "    print(\"Selected response: \" ,selected_response)\n",
    "    print(\"--------------------------------------------------\")"
   ]
  }
 ],
 "metadata": {
  "kernelspec": {
   "display_name": "Python 3",
   "language": "python",
   "name": "python3"
  },
  "language_info": {
   "codemirror_mode": {
    "name": "ipython",
    "version": 3
   },
   "file_extension": ".py",
   "mimetype": "text/x-python",
   "name": "python",
   "nbconvert_exporter": "python",
   "pygments_lexer": "ipython3",
   "version": "3.12.2"
  }
 },
 "nbformat": 4,
 "nbformat_minor": 2
}
