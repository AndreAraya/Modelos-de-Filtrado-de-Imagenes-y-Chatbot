{
 "cells": [
  {
   "cell_type": "markdown",
   "metadata": {},
   "source": [
    "### Importar Librerias necesarioas"
   ]
  },
  {
   "cell_type": "code",
   "execution_count": 2,
   "metadata": {},
   "outputs": [],
   "source": [
    "# Importar las librerias necesarias\n",
    "import json \n",
    "import spacy \n",
    "import numpy as np \n",
    "from sklearn.metrics.pairwise import cosine_similarity \n"
   ]
  },
  {
   "cell_type": "markdown",
   "metadata": {},
   "source": [
    "### Carga del modelo de SpaCy y lectura de las respuestas desde el json"
   ]
  },
  {
   "cell_type": "code",
   "execution_count": 3,
   "metadata": {},
   "outputs": [],
   "source": [
    "# Carga del modelo de lenguaje en Ingles de spaCy \n",
    "nlp = spacy.load(\"en_core_web_lg\")\n",
    "\n",
    "# Leer las respuestas desde el archivo JSON\n",
    "with open('respuesta.json') as file:\n",
    "    data = json.load(file)\n",
    "    responses = data[\"responses\"]"
   ]
  },
  {
   "cell_type": "markdown",
   "metadata": {},
   "source": [
    "### Transformar respuestas en embeddings"
   ]
  },
  {
   "cell_type": "code",
   "execution_count": 4,
   "metadata": {},
   "outputs": [
    {
     "data": {
      "text/plain": [
       "array([[ 1.0904796 , -2.3488302 , -0.543687  , ..., -2.584807  ,\n",
       "        -1.9785779 ,  3.807547  ],\n",
       "       [ 2.0794666 , -1.1438301 ,  0.46783298, ..., -1.0116231 ,\n",
       "        -2.111757  ,  3.6217308 ],\n",
       "       [ 2.8996904 , -0.49203098, -1.9728084 , ..., -1.2895554 ,\n",
       "        -2.4242344 ,  3.456478  ],\n",
       "       ...,\n",
       "       [-1.62018   ,  0.3847784 , -2.3261259 , ..., -3.6405833 ,\n",
       "        -0.6643802 ,  2.6210325 ],\n",
       "       [-0.47997463,  0.46028596, -1.7876245 , ..., -1.6465485 ,\n",
       "        -2.2502735 ,  0.1279058 ],\n",
       "       [-3.3221512 , -0.7779014 , -2.7207854 , ..., -2.972469  ,\n",
       "        -1.5138054 ,  0.92538685]], dtype=float32)"
      ]
     },
     "execution_count": 4,
     "metadata": {},
     "output_type": "execute_result"
    }
   ],
   "source": [
    "# Dataset transformado en  embeddings\n",
    "responsesEmbeddings = np.array([nlp(response).vector for response in responses])\n",
    "\n",
    "responsesEmbeddings"
   ]
  },
  {
   "cell_type": "code",
   "execution_count": 5,
   "metadata": {},
   "outputs": [],
   "source": [
    "# Función para preprocesar el texto\n",
    "def preprocess(text):\n",
    "    doc = nlp(text)\n",
    "    tokens = [token.lemma_.lower() for token in doc if not token.is_stop] # Convierte a lema, minuscula y elimina stop words(palabras \"vacias\")\n",
    "    return ' '.join(tokens) # Devuelve los tokens unidos en una cadena"
   ]
  },
  {
   "cell_type": "markdown",
   "metadata": {},
   "source": [
    "### Funcion para busqueda de respuestas similares"
   ]
  },
  {
   "cell_type": "code",
   "execution_count": 6,
   "metadata": {},
   "outputs": [],
   "source": [
    "def findMostSimilarReponses(question):\n",
    "    # Preprocesar la pregunta\n",
    "    questionProcessed = preprocess(question)\n",
    "    questionEmbedding = nlp(questionProcessed).vector\n",
    "\n",
    "    # Calcula la similitud de coseno entre la pregunta y las respuestas\n",
    "    similarities = cosine_similarity([questionEmbedding], responsesEmbeddings)\n",
    "\n",
    "    # obtiene los indices de las 10 respuestas mas similares\n",
    "    top_indices = np.argsort(similarities[0])[-10:][::-1]\n",
    "\n",
    "    # Selecciona la respuesta con mayor similitud entre las 10 respuestas\n",
    "    selected_response = responses[top_indices[0]]\n",
    "\n",
    "    return selected_response"
   ]
  },
  {
   "cell_type": "code",
   "execution_count": 21,
   "metadata": {},
   "outputs": [
    {
     "name": "stdout",
     "output_type": "stream",
     "text": [
      "Question:  What are the visiting hours?\n",
      "Selected response:  Patients can have two visitors at a time during visiting hours.\n",
      "--------------------------------------------------\n",
      "Question:  What are the visiting rules?\n",
      "Selected response:  Family members can call the patient's room directly for updates.\n",
      "--------------------------------------------------\n",
      "Question:  How can I get a medical assistance?\n",
      "Selected response:  For emergency medical assistance, dial 911 immediately.\n",
      "--------------------------------------------------\n",
      "Question:  Is the emergency room open 24 hours?\n",
      "Selected response:  The emergency room is open 24 hours a day.\n",
      "--------------------------------------------------\n",
      "Question:  Information about Lab results\n",
      "Selected response:  Physical therapy sessions can be scheduled by referral from a doctor.\n",
      "--------------------------------------------------\n",
      "Question:  lab results\n",
      "Selected response:  Lab test results are usually available within 24 to 48 hours.\n",
      "--------------------------------------------------\n",
      "Question:  Physical therapy sessions?\n",
      "Selected response:  Family members can call the patient's room directly for updates.\n",
      "--------------------------------------------------\n",
      "Question:  Is there free WiFi?\n",
      "Selected response:  The hospital offers free WiFi for patients and visitors.\n",
      "--------------------------------------------------\n",
      "Question:  Is there a hospital cafeteria?\n",
      "Selected response:  Family members can call the patient's room directly for updates.\n",
      "--------------------------------------------------\n"
     ]
    }
   ],
   "source": [
    "# Preguntas de ejemplo\n",
    "exampleQuestions = [\n",
    "    \"What are the visiting hours?\",\n",
    "    \"What are the visiting rules?\",\n",
    "    \"How can I get a medical assistance?\",\n",
    "    \"Is the emergency room open 24 hours?\",\n",
    "    \"Information about Lab results\",\n",
    "    \"lab results\",\n",
    "    \"Physical therapy sessions?\",\n",
    "    \"Is there free WiFi?\",\n",
    "    \"Is there a hospital cafeteria?\",\n",
    "]\n",
    "# Prueba el chatbot con las preguntas de ejemplo\n",
    "for question in exampleQuestions:\n",
    "    selectedResponse = findMostSimilarReponses(question)\n",
    "    print(\"Question: \" ,question)\n",
    "    print(\"Selected response: \" ,selectedResponse)\n",
    "    print(\"--------------------------------------------------\")"
   ]
  }
 ],
 "metadata": {
  "kernelspec": {
   "display_name": "Python 3",
   "language": "python",
   "name": "python3"
  },
  "language_info": {
   "codemirror_mode": {
    "name": "ipython",
    "version": 3
   },
   "file_extension": ".py",
   "mimetype": "text/x-python",
   "name": "python",
   "nbconvert_exporter": "python",
   "pygments_lexer": "ipython3",
   "version": "3.12.2"
  }
 },
 "nbformat": 4,
 "nbformat_minor": 2
}
