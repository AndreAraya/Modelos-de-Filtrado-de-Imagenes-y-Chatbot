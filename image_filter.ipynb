{
 "cells": [
  {
   "cell_type": "markdown",
   "metadata": {},
   "source": [
    "# **Tarea 2:** Filtros sobre imágenes. "
   ]
  },
  {
   "cell_type": "markdown",
   "metadata": {},
   "source": [
    "### Importar bibliotecas necesarias."
   ]
  },
  {
   "cell_type": "code",
   "execution_count": 3,
   "metadata": {},
   "outputs": [],
   "source": [
    "import cv2\n",
    "import matplotlib.pyplot as plt\n",
    "import numpy as np\n",
    "import os"
   ]
  },
  {
   "cell_type": "markdown",
   "metadata": {},
   "source": [
    "### Carga de imágenes del dataset."
   ]
  },
  {
   "cell_type": "code",
   "execution_count": 4,
   "metadata": {},
   "outputs": [],
   "source": [
    "# Definir las rutas\n",
    "dataset_path = 'Covid19-dataset/train/'\n",
    "categories = ['Covid', 'Normal', 'Viral Pneumonia']\n",
    "\n",
    "# Seleccionar una imagen de cada clase\n",
    "images = {}\n",
    "for category in categories:\n",
    "    category_path = os.path.join(dataset_path, category)\n",
    "    image_name = os.listdir(category_path)[0]  # Escoge la primera imagen como ejemplo\n",
    "    image_path = os.path.join(category_path, image_name)\n",
    "    images[category] = cv2.imread(image_path)"
   ]
  },
  {
   "cell_type": "markdown",
   "metadata": {},
   "source": [
    "### Convertir a un canal las imagenes."
   ]
  },
  {
   "cell_type": "code",
   "execution_count": null,
   "metadata": {},
   "outputs": [],
   "source": [
    "def preprocess_image(image):\n",
    "    gray_image = cv2.cvtColor(image, cv2.COLOR_BGR2GRAY)  # Convertir a escala de grises\n",
    "    blurred_image = cv2.GaussianBlur(gray_image, (5, 5), 0)  # Aplicar filtro gaussiano\n",
    "    return blurred_image"
   ]
  },
  {
   "cell_type": "code",
   "execution_count": null,
   "metadata": {},
   "outputs": [],
   "source": [
    "preprocessed_images = {category: preprocess_image(img) for category, img in images.items()}\n",
    "\n",
    "for category, img in preprocessed_images.items():\n",
    "    plt.imshow(img, cmap='gray')\n",
    "    plt.title(f'Imagen Preprocesada - {category}')\n",
    "    plt.axis('off')\n",
    "    plt.show()"
   ]
  },
  {
   "cell_type": "markdown",
   "metadata": {},
   "source": [
    "### Aplicación de filtros."
   ]
  },
  {
   "cell_type": "markdown",
   "metadata": {},
   "source": [
    "#### *Filtro Blur.*"
   ]
  },
  {
   "cell_type": "code",
   "execution_count": null,
   "metadata": {},
   "outputs": [],
   "source": [
    "def apply_blur(image):\n",
    "    return cv2.GaussianBlur(image, (15, 15), 0)\n",
    "\n",
    "blurred_images = {category: apply_blur(img) for category, img in preprocessed_images.items()}\n",
    "\n",
    "# Mostrar imágenes con filtro Blur\n",
    "for category, img in blurred_images.items():\n",
    "    plt.imshow(img, cmap='gray')\n",
    "    plt.title(f'Filtro Blur - {category}')\n",
    "    plt.axis('off')\n",
    "    plt.show()"
   ]
  },
  {
   "cell_type": "markdown",
   "metadata": {},
   "source": [
    "#### *Filtro Sobel.*"
   ]
  },
  {
   "cell_type": "code",
   "execution_count": null,
   "metadata": {},
   "outputs": [],
   "source": [
    "def apply_sobel(image):\n",
    "    sobel_x = cv2.Sobel(image, cv2.CV_64F, 1, 0, ksize=5)\n",
    "    sobel_y = cv2.Sobel(image, cv2.CV_64F, 0, 1, ksize=5)\n",
    "    sobel_combined = cv2.magnitude(sobel_x, sobel_y)\n",
    "    return sobel_combined\n",
    "\n",
    "sobel_images = {category: apply_sobel(img) for category, img in preprocessed_images.items()}\n",
    "\n",
    "# Mostrar imágenes con filtro Sobel\n",
    "for category, img in sobel_images.items():\n",
    "    plt.imshow(img, cmap='gray')\n",
    "    plt.title(f'Filtro Sobel - {category}')\n",
    "    plt.axis('off')\n",
    "    plt.show()"
   ]
  },
  {
   "cell_type": "markdown",
   "metadata": {},
   "source": [
    "#### *Filtro Canny.*"
   ]
  },
  {
   "cell_type": "code",
   "execution_count": null,
   "metadata": {},
   "outputs": [],
   "source": [
    "def apply_canny(image):\n",
    "    return cv2.Canny(image, 100, 200)\n",
    "\n",
    "canny_images = {category: apply_canny(img) for category, img in preprocessed_images.items()}\n",
    "\n",
    "# Mostrar imágenes con filtro Canny\n",
    "for category, img in canny_images.items():\n",
    "    plt.imshow(img, cmap='gray')\n",
    "    plt.title(f'Filtro Canny - {category}')\n",
    "    plt.axis('off')\n",
    "    plt.show()"
   ]
  },
  {
   "cell_type": "markdown",
   "metadata": {},
   "source": [
    "### Comparación de resultados."
   ]
  },
  {
   "cell_type": "code",
   "execution_count": null,
   "metadata": {},
   "outputs": [],
   "source": [
    "def compare_images(original, blurred, sobel, canny, category):\n",
    "    fig, axs = plt.subplots(1, 4, figsize=(20, 5))\n",
    "\n",
    "    axs[0].imshow(original, cmap='gray')\n",
    "    axs[0].set_title(f'Original - {category}')\n",
    "    axs[0].axis('off')\n",
    "\n",
    "    axs[1].imshow(blurred, cmap='gray')\n",
    "    axs[1].set_title(f'Blur - {category}')\n",
    "    axs[1].axis('off')\n",
    "\n",
    "    axs[2].imshow(sobel, cmap='gray')\n",
    "    axs[2].set_title(f'Sobel - {category}')\n",
    "    axs[2].axis('off')\n",
    "\n",
    "    axs[3].imshow(canny, cmap='gray')\n",
    "    axs[3].set_title(f'Canny - {category}')\n",
    "    axs[3].axis('off')\n",
    "\n",
    "    plt.show()\n",
    "\n",
    "# Comparar las imágenes para cada categoría\n",
    "for category in categories:\n",
    "    compare_images(preprocessed_images[category], blurred_images[category], sobel_images[category], canny_images[category], category)\n"
   ]
  },
  {
   "cell_type": "markdown",
   "metadata": {},
   "source": [
    "### Guardado de imágenes filtradas."
   ]
  },
  {
   "cell_type": "code",
   "execution_count": null,
   "metadata": {},
   "outputs": [],
   "source": [
    "output_dir = 'images/filtered'\n",
    "os.makedirs(output_dir, exist_ok=True)\n",
    "\n",
    "for category in categories:\n",
    "    cv2.imwrite(f'{output_dir}/{category}_blur.png', blurred_images[category])\n",
    "    cv2.imwrite(f'{output_dir}/{category}_sobel.png', sobel_images[category])\n",
    "    cv2.imwrite(f'{output_dir}/{category}_canny.png', canny_images[category])"
   ]
  }
 ],
 "metadata": {
  "kernelspec": {
   "display_name": "Python 3",
   "language": "python",
   "name": "python3"
  },
  "language_info": {
   "codemirror_mode": {
    "name": "ipython",
    "version": 3
   },
   "file_extension": ".py",
   "mimetype": "text/x-python",
   "name": "python",
   "nbconvert_exporter": "python",
   "pygments_lexer": "ipython3",
   "version": "3.12.4"
  }
 },
 "nbformat": 4,
 "nbformat_minor": 2
}
